{
 "cells": [
  {
   "cell_type": "markdown",
   "metadata": {
    "colab_type": "text",
    "id": "dbVYHv45Vx2y"
   },
   "source": [
    "# Let the presidents speak on economic matters\n",
    "\n",
    "This is basically a copy of [NLP Zero to Hero](https://github.com/lmoroney/dlaicourse/blob/master/TensorFlow%20In%20Practice/Course%203%20-%20NLP/Course%203%20-%20Week%204%20-%20Lesson%202%20-%20Notebook.ipynb). The only change is that the inputs are not Irish lyrics, but the United States Presidents' writings in the Economic Report of the President from 1947 to 2020."
   ]
  },
  {
   "cell_type": "markdown",
   "metadata": {
    "colab_type": "text",
    "id": "R0AZ87T9ZCGg"
   },
   "source": [
    "## Preprocess\n",
    "\n",
    "I started from the pdf files I downloaded for the [tf-idf](https://github.com/mitsuoxv/erp/blob/master/README.md) and [sentiment analysis](https://github.com/mitsuoxv/erp/blob/master/Sentiment.md) in this repository. First, I made new pdf files which contain only the president parts by make_pres_pdf.py. Next, I extract texts into new files by make_pres_txt.py, which utilizes data_func.py I copied from [PDF Text Extraction in Python](https://towardsdatascience.com/pdf-text-extraction-in-python-5b6ab9e92dd).\n",
    "\n",
    "Then I copied text files into 'texts/presidents/' directory, and manually cleaned up texts by:\n",
    "\n",
    "1. correcting word order, where digitization made mistakes in shaping lines;\n",
    "\n",
    "1. correcting words, where optical recognition made mistakes due to dirt, or the author apparently misspelled;\n",
    "\n",
    "1. making punctuation common over reports, following my memory of [\"The Mac is Not a Typewriter\" by Robin P. Williams](https://www.goodreads.com/book/show/41600.The_Mac_is_Not_a_Typewriter), which I must have, but could not find now. As an exception, using minus mark instead of hyphen; and\n",
    "\n",
    "1. changing lines, where I encounter \";\", \":\", \"—\" or \",\" and when I feel changed lines are natural if they were in President Johnson's reports.\n",
    "\n",
    "I tried to be consistent over reports of different authors. Honestly, I am not sure whether \"text\" has become more consistent or not, as a result."
   ]
  },
  {
   "cell_type": "markdown",
   "metadata": {
    "colab_type": "text",
    "id": "B5aX7BoXX_Zg"
   },
   "source": [
    "I download the texts from 'texts/presidents/' directory."
   ]
  },
  {
   "cell_type": "code",
   "execution_count": 1,
   "metadata": {},
   "outputs": [
    {
     "name": "stdout",
     "output_type": "stream",
     "text": [
      "/tf/notebooks\r\n"
     ]
    }
   ],
   "source": [
    "!pwd"
   ]
  },
  {
   "cell_type": "code",
   "execution_count": 2,
   "metadata": {
    "colab": {
     "base_uri": "https://localhost:8080/",
     "height": 1000
    },
    "colab_type": "code",
    "id": "HUq8hmX8-1bN",
    "outputId": "9f8cee52-4bc6-4854-88d4-b99845047d92"
   },
   "outputs": [
    {
     "name": "stdout",
     "output_type": "stream",
     "text": [
      "1947_pres.txt  1962_pres.txt  1977_pres.txt  1992_pres.txt  2007_pres.txt\r\n",
      "1948_pres.txt  1963_pres.txt  1978_pres.txt  1993_pres.txt  2008_pres.txt\r\n",
      "1949_pres.txt  1964_pres.txt  1979_pres.txt  1994_pres.txt  2009_pres.txt\r\n",
      "1950_pres.txt  1965_pres.txt  1980_pres.txt  1995_pres.txt  2010_pres.txt\r\n",
      "1951_pres.txt  1966_pres.txt  1981_pres.txt  1996_pres.txt  2011_pres.txt\r\n",
      "1952_pres.txt  1967_pres.txt  1982_pres.txt  1997_pres.txt  2012_pres.txt\r\n",
      "1953_pres.txt  1968_pres.txt  1983_pres.txt  1998_pres.txt  2013_pres.txt\r\n",
      "1954_pres.txt  1969_pres.txt  1984_pres.txt  1999_pres.txt  2014_pres.txt\r\n",
      "1955_pres.txt  1970_pres.txt  1985_pres.txt  2000_pres.txt  2015_pres.txt\r\n",
      "1956_pres.txt  1971_pres.txt  1986_pres.txt  2001_pres.txt  2016_pres.txt\r\n",
      "1957_pres.txt  1972_pres.txt  1987_pres.txt  2002_pres.txt  2017_pres.txt\r\n",
      "1958_pres.txt  1973_pres.txt  1988_pres.txt  2003_pres.txt  2018_pres.txt\r\n",
      "1959_pres.txt  1974_pres.txt  1989_pres.txt  2004_pres.txt  2019_pres.txt\r\n",
      "1960_pres.txt  1975_pres.txt  1990_pres.txt  2005_pres.txt  2020_pres.txt\r\n",
      "1961_pres.txt  1976_pres.txt  1991_pres.txt  2006_pres.txt\r\n"
     ]
    }
   ],
   "source": [
    "# !wget https://raw.githubusercontent.com/mitsuoxv/erp/master/texts/presidents/{1947..2020}_pres.txt --directory-prefix=texts/presidents/\n",
    "!ls texts/presidents"
   ]
  },
  {
   "cell_type": "code",
   "execution_count": 3,
   "metadata": {
    "colab": {},
    "colab_type": "code",
    "id": "wbUSwRW1oLTb"
   },
   "outputs": [],
   "source": [
    "corpus = []\n",
    "\n",
    "for year in range(1947, 2020):\n",
    "    input_filename = 'texts/presidents/{}_pres.txt'.format(year)\n",
    "    \n",
    "    with open(input_filename, 'r') as f:\n",
    "        text = f.read()\n",
    "    \n",
    "    corpus = corpus + text.lower().split('\\n')"
   ]
  },
  {
   "cell_type": "markdown",
   "metadata": {
    "colab_type": "text",
    "id": "K3ttxeZyEic2"
   },
   "source": [
    "I remove bullet only lines."
   ]
  },
  {
   "cell_type": "code",
   "execution_count": 4,
   "metadata": {
    "colab": {},
    "colab_type": "code",
    "id": "zldAC4C3BKJz"
   },
   "outputs": [],
   "source": [
    "import re\n",
    "\n",
    "corpus = [re.sub('^.$', '', line) for line in corpus]\n",
    "corpus = [re.sub('^\\\\(.\\\\)$', '', line) for line in corpus]\n",
    "corpus = [re.sub('^.\\\\.$', '', line) for line in corpus]\n",
    "\n",
    "corpus = [line for line in corpus if line != '']"
   ]
  },
  {
   "cell_type": "markdown",
   "metadata": {
    "colab_type": "text",
    "id": "41oijgMYedR3"
   },
   "source": [
    "So far the number of lines are:"
   ]
  },
  {
   "cell_type": "code",
   "execution_count": 5,
   "metadata": {
    "colab": {
     "base_uri": "https://localhost:8080/",
     "height": 34
    },
    "colab_type": "code",
    "id": "TMhaYE-VoLTh",
    "outputId": "0ea8d8d2-87f1-4c4e-a631-fbc2e5c31e7d"
   },
   "outputs": [
    {
     "data": {
      "text/plain": [
       "12990"
      ]
     },
     "execution_count": 5,
     "metadata": {},
     "output_type": "execute_result"
    }
   ],
   "source": [
    "len(corpus)"
   ]
  },
  {
   "cell_type": "markdown",
   "metadata": {
    "colab_type": "text",
    "id": "QyrgmcbaJePm"
   },
   "source": [
    "I remove the lines of which number of words is equal to, or greater than 35, as I know those can be regarded as exceptions from [Sentiment analysis using R](https://github.com/mitsuoxv/erp/blob/master/Sentiment.md)"
   ]
  },
  {
   "cell_type": "code",
   "execution_count": 6,
   "metadata": {
    "colab": {},
    "colab_type": "code",
    "id": "miVj3_WAHIgn"
   },
   "outputs": [],
   "source": [
    "corpus = [line for line in corpus if len(re.split('[ —]', line)) < 35]"
   ]
  },
  {
   "cell_type": "markdown",
   "metadata": {
    "colab_type": "text",
    "id": "K8r7pz-DKZz3"
   },
   "source": [
    "The number of lines are:"
   ]
  },
  {
   "cell_type": "code",
   "execution_count": 7,
   "metadata": {
    "colab": {
     "base_uri": "https://localhost:8080/",
     "height": 34
    },
    "colab_type": "code",
    "id": "S-T_WP1ZJX79",
    "outputId": "cce54f02-ef24-4653-ab4a-4736d9b8c3e0"
   },
   "outputs": [
    {
     "data": {
      "text/plain": [
       "12077"
      ]
     },
     "execution_count": 7,
     "metadata": {},
     "output_type": "execute_result"
    }
   ],
   "source": [
    "len(corpus)"
   ]
  },
  {
   "cell_type": "code",
   "execution_count": 8,
   "metadata": {
    "colab": {
     "base_uri": "https://localhost:8080/",
     "height": 35
    },
    "colab_type": "code",
    "id": "-yXxBWQSoLTl",
    "outputId": "06970067-9495-44f6-cddb-ebfe738660c7"
   },
   "outputs": [
    {
     "data": {
      "text/plain": [
       "'2.3.0-rc1'"
      ]
     },
     "execution_count": 8,
     "metadata": {},
     "output_type": "execute_result"
    }
   ],
   "source": [
    "import tensorflow as tf\n",
    "\n",
    "tf.__version__"
   ]
  },
  {
   "cell_type": "markdown",
   "metadata": {},
   "source": [
    "Refer to [Stackoverflow](https://stackoverflow.com/questions/56333388/tensorflow-fail-to-find-dnn-implementation)"
   ]
  },
  {
   "cell_type": "code",
   "execution_count": 9,
   "metadata": {},
   "outputs": [],
   "source": [
    "from tensorflow.compat.v1 import ConfigProto\n",
    "from tensorflow.compat.v1 import InteractiveSession\n",
    "config = ConfigProto()\n",
    "config.gpu_options.allow_growth = True\n",
    "session = InteractiveSession(config=config)"
   ]
  },
  {
   "cell_type": "code",
   "execution_count": 10,
   "metadata": {
    "colab": {},
    "colab_type": "code",
    "id": "QKt7NwyOoLTu"
   },
   "outputs": [],
   "source": [
    "from tensorflow.keras.preprocessing.sequence import pad_sequences\n",
    "from tensorflow.keras.layers import Embedding, LSTM, Dense, Bidirectional\n",
    "from tensorflow.keras.preprocessing.text import Tokenizer\n",
    "from tensorflow.keras.models import Sequential\n",
    "from tensorflow.keras.optimizers import Adam\n",
    "import numpy as np"
   ]
  },
  {
   "cell_type": "code",
   "execution_count": 11,
   "metadata": {
    "colab": {},
    "colab_type": "code",
    "id": "7jCx6UiDoLTw"
   },
   "outputs": [],
   "source": [
    "tokenizer = Tokenizer()\n",
    "\n",
    "tokenizer.fit_on_texts(corpus)\n",
    "total_words = len(tokenizer.word_index) + 1"
   ]
  },
  {
   "cell_type": "code",
   "execution_count": 12,
   "metadata": {
    "colab": {
     "base_uri": "https://localhost:8080/",
     "height": 34
    },
    "colab_type": "code",
    "id": "_c7F6HPuoLTz",
    "outputId": "b9477e88-6849-4217-8348-81acfb917723"
   },
   "outputs": [
    {
     "name": "stdout",
     "output_type": "stream",
     "text": [
      "9176\n"
     ]
    }
   ],
   "source": [
    "print(total_words)"
   ]
  },
  {
   "cell_type": "code",
   "execution_count": 13,
   "metadata": {
    "colab": {},
    "colab_type": "code",
    "id": "sk9Tw0sNoLT1"
   },
   "outputs": [],
   "source": [
    "input_sequences = []\n",
    "for line in corpus:\n",
    "    token_list = tokenizer.texts_to_sequences([line])[0]\n",
    "    for i in range(1, len(token_list)):\n",
    "        n_gram_sequence = token_list[:i+1]\n",
    "        input_sequences.append(n_gram_sequence)\n",
    "\n",
    "# pad sequences \n",
    "max_sequence_len = max([len(x) for x in input_sequences])\n",
    "input_sequences = np.array(pad_sequences(input_sequences, maxlen=max_sequence_len, padding='pre'))\n",
    "\n",
    "# create predictors and label\n",
    "xs, labels = input_sequences[:,:-1],input_sequences[:,-1]\n",
    "\n",
    "ys = tf.keras.utils.to_categorical(labels, num_classes=total_words)"
   ]
  },
  {
   "cell_type": "code",
   "execution_count": 14,
   "metadata": {
    "colab": {},
    "colab_type": "code",
    "id": "4HFdB_x7oLT3"
   },
   "outputs": [],
   "source": [
    "model = Sequential()\n",
    "model.add(Embedding(total_words, 64, input_length=max_sequence_len-1))\n",
    "model.add(Bidirectional(LSTM(20)))\n",
    "model.add(Dense(total_words, activation='softmax'))"
   ]
  },
  {
   "cell_type": "code",
   "execution_count": 15,
   "metadata": {
    "colab": {},
    "colab_type": "code",
    "id": "RXcbSM2joLT6"
   },
   "outputs": [],
   "source": [
    "model.compile(loss='categorical_crossentropy', optimizer='adam', metrics=['accuracy'])"
   ]
  },
  {
   "cell_type": "code",
   "execution_count": 16,
   "metadata": {
    "colab": {
     "base_uri": "https://localhost:8080/",
     "height": 163
    },
    "colab_type": "code",
    "id": "Bc01WSrQoLT_",
    "outputId": "3bb017d5-2a6f-4db0-b02e-5e2340458cba"
   },
   "outputs": [
    {
     "name": "stdout",
     "output_type": "stream",
     "text": [
      "Model: \"sequential\"\n",
      "_________________________________________________________________\n",
      "Layer (type)                 Output Shape              Param #   \n",
      "=================================================================\n",
      "embedding (Embedding)        (None, 37, 64)            587264    \n",
      "_________________________________________________________________\n",
      "bidirectional (Bidirectional (None, 40)                13600     \n",
      "_________________________________________________________________\n",
      "dense (Dense)                (None, 9176)              376216    \n",
      "=================================================================\n",
      "Total params: 977,080\n",
      "Trainable params: 977,080\n",
      "Non-trainable params: 0\n",
      "_________________________________________________________________\n"
     ]
    }
   ],
   "source": [
    "model.summary()"
   ]
  },
  {
   "cell_type": "markdown",
   "metadata": {
    "colab_type": "text",
    "id": "P8dilZG1gjqx"
   },
   "source": [
    "As model.fit is expected to take aproximately 33 hours, it stopped at 186th epock. Probably Colab does not allow this long."
   ]
  },
  {
   "cell_type": "code",
   "execution_count": null,
   "metadata": {
    "colab": {
     "base_uri": "https://localhost:8080/",
     "height": 1000
    },
    "colab_type": "code",
    "id": "PZJfAaXKoLT8",
    "outputId": "9e452d18-b52f-484c-e403-db0c849b198d"
   },
   "outputs": [
    {
     "name": "stdout",
     "output_type": "stream",
     "text": [
      "Epoch 1/500\n",
      "6111/6111 [==============================] - 64s 11ms/step - loss: 6.5122 - accuracy: 0.0889\n",
      "Epoch 2/500\n",
      "6111/6111 [==============================] - 64s 10ms/step - loss: 5.9061 - accuracy: 0.1379\n",
      "Epoch 3/500\n",
      "6111/6111 [==============================] - 65s 11ms/step - loss: 5.5967 - accuracy: 0.1607\n",
      "Epoch 4/500\n",
      "6111/6111 [==============================] - 65s 11ms/step - loss: 5.3942 - accuracy: 0.1751\n",
      "Epoch 5/500\n",
      "6111/6111 [==============================] - 66s 11ms/step - loss: 5.2404 - accuracy: 0.1862\n",
      "Epoch 6/500\n",
      "6111/6111 [==============================] - 66s 11ms/step - loss: 5.1196 - accuracy: 0.1948\n",
      "Epoch 7/500\n",
      "6111/6111 [==============================] - 66s 11ms/step - loss: 5.0183 - accuracy: 0.2020\n",
      "Epoch 8/500\n",
      "6111/6111 [==============================] - 66s 11ms/step - loss: 4.9248 - accuracy: 0.2095\n",
      "Epoch 9/500\n",
      "6111/6111 [==============================] - 66s 11ms/step - loss: 4.8340 - accuracy: 0.2161\n",
      "Epoch 10/500\n",
      "6111/6111 [==============================] - 66s 11ms/step - loss: 4.7519 - accuracy: 0.2221\n",
      "Epoch 11/500\n",
      "6111/6111 [==============================] - 66s 11ms/step - loss: 4.6806 - accuracy: 0.2276\n",
      "Epoch 12/500\n",
      "6111/6111 [==============================] - 66s 11ms/step - loss: 4.6163 - accuracy: 0.2323\n",
      "Epoch 13/500\n",
      "6111/6111 [==============================] - 66s 11ms/step - loss: 4.5568 - accuracy: 0.2369\n",
      "Epoch 14/500\n",
      "6111/6111 [==============================] - 66s 11ms/step - loss: 4.4988 - accuracy: 0.2415\n",
      "Epoch 15/500\n",
      "6111/6111 [==============================] - 66s 11ms/step - loss: 4.4436 - accuracy: 0.2447\n",
      "Epoch 16/500\n",
      "6111/6111 [==============================] - 66s 11ms/step - loss: 4.3929 - accuracy: 0.2484\n",
      "Epoch 17/500\n",
      "6111/6111 [==============================] - 66s 11ms/step - loss: 4.3458 - accuracy: 0.2520\n",
      "Epoch 18/500\n",
      "6111/6111 [==============================] - 66s 11ms/step - loss: 4.3028 - accuracy: 0.2550\n",
      "Epoch 19/500\n",
      "6111/6111 [==============================] - 65s 11ms/step - loss: 4.2608 - accuracy: 0.2588\n",
      "Epoch 20/500\n",
      "6111/6111 [==============================] - 65s 11ms/step - loss: 4.2226 - accuracy: 0.2620\n",
      "Epoch 21/500\n",
      "6111/6111 [==============================] - 66s 11ms/step - loss: 4.1844 - accuracy: 0.2646\n",
      "Epoch 22/500\n",
      "6111/6111 [==============================] - 65s 11ms/step - loss: 4.1479 - accuracy: 0.2679\n",
      "Epoch 23/500\n",
      "6111/6111 [==============================] - 66s 11ms/step - loss: 4.1114 - accuracy: 0.2703\n",
      "Epoch 24/500\n",
      "6111/6111 [==============================] - 65s 11ms/step - loss: 4.0786 - accuracy: 0.2734\n",
      "Epoch 25/500\n",
      "6111/6111 [==============================] - 66s 11ms/step - loss: 4.0449 - accuracy: 0.2762\n",
      "Epoch 26/500\n",
      "6111/6111 [==============================] - 66s 11ms/step - loss: 4.0127 - accuracy: 0.2794\n",
      "Epoch 27/500\n",
      "6111/6111 [==============================] - 66s 11ms/step - loss: 3.9818 - accuracy: 0.2821\n",
      "Epoch 28/500\n",
      "6111/6111 [==============================] - 66s 11ms/step - loss: 3.9507 - accuracy: 0.2845\n",
      "Epoch 29/500\n",
      "6111/6111 [==============================] - 65s 11ms/step - loss: 3.9228 - accuracy: 0.2869\n",
      "Epoch 30/500\n",
      "6111/6111 [==============================] - 65s 11ms/step - loss: 3.8959 - accuracy: 0.2898\n",
      "Epoch 31/500\n",
      "6111/6111 [==============================] - 65s 11ms/step - loss: 3.8686 - accuracy: 0.2916\n",
      "Epoch 32/500\n",
      "6111/6111 [==============================] - 66s 11ms/step - loss: 3.8444 - accuracy: 0.2942\n",
      "Epoch 33/500\n",
      "6111/6111 [==============================] - 66s 11ms/step - loss: 3.8205 - accuracy: 0.2965\n",
      "Epoch 34/500\n",
      "6111/6111 [==============================] - 65s 11ms/step - loss: 3.7979 - accuracy: 0.2991\n",
      "Epoch 35/500\n",
      "6111/6111 [==============================] - 65s 11ms/step - loss: 3.7774 - accuracy: 0.3015\n",
      "Epoch 36/500\n",
      "6111/6111 [==============================] - 66s 11ms/step - loss: 3.7562 - accuracy: 0.3036\n",
      "Epoch 37/500\n",
      "6111/6111 [==============================] - 65s 11ms/step - loss: 3.7366 - accuracy: 0.3053\n",
      "Epoch 38/500\n",
      "6111/6111 [==============================] - 66s 11ms/step - loss: 3.7167 - accuracy: 0.3077\n",
      "Epoch 39/500\n",
      "6111/6111 [==============================] - 65s 11ms/step - loss: 3.6997 - accuracy: 0.3096\n",
      "Epoch 40/500\n",
      "6111/6111 [==============================] - 65s 11ms/step - loss: 3.6824 - accuracy: 0.3106\n",
      "Epoch 41/500\n",
      "6111/6111 [==============================] - 65s 11ms/step - loss: 3.6674 - accuracy: 0.3131\n",
      "Epoch 42/500\n",
      "6111/6111 [==============================] - 66s 11ms/step - loss: 3.6505 - accuracy: 0.3151\n",
      "Epoch 43/500\n",
      "6111/6111 [==============================] - 66s 11ms/step - loss: 3.6372 - accuracy: 0.3160\n",
      "Epoch 44/500\n",
      "6111/6111 [==============================] - 66s 11ms/step - loss: 3.6209 - accuracy: 0.3183\n",
      "Epoch 45/500\n",
      "6111/6111 [==============================] - 65s 11ms/step - loss: 3.6076 - accuracy: 0.3197\n",
      "Epoch 46/500\n",
      "6111/6111 [==============================] - 65s 11ms/step - loss: 3.5959 - accuracy: 0.3215\n",
      "Epoch 47/500\n",
      "6111/6111 [==============================] - 66s 11ms/step - loss: 3.5831 - accuracy: 0.3228\n",
      "Epoch 48/500\n",
      "6111/6111 [==============================] - 66s 11ms/step - loss: 3.5683 - accuracy: 0.3242\n",
      "Epoch 49/500\n",
      "6111/6111 [==============================] - 65s 11ms/step - loss: 3.5580 - accuracy: 0.3261\n",
      "Epoch 50/500\n",
      "6111/6111 [==============================] - 65s 11ms/step - loss: 3.5463 - accuracy: 0.3272\n",
      "Epoch 51/500\n",
      "6111/6111 [==============================] - 65s 11ms/step - loss: 3.5324 - accuracy: 0.3281\n",
      "Epoch 52/500\n",
      "6111/6111 [==============================] - 66s 11ms/step - loss: 3.5216 - accuracy: 0.3294\n",
      "Epoch 53/500\n",
      "6111/6111 [==============================] - 66s 11ms/step - loss: 3.5096 - accuracy: 0.3313\n",
      "Epoch 54/500\n",
      "6111/6111 [==============================] - 66s 11ms/step - loss: 3.4997 - accuracy: 0.3328\n",
      "Epoch 55/500\n",
      "6111/6111 [==============================] - 66s 11ms/step - loss: 3.4904 - accuracy: 0.3322\n",
      "Epoch 56/500\n",
      "6111/6111 [==============================] - 66s 11ms/step - loss: 3.4810 - accuracy: 0.3343\n",
      "Epoch 57/500\n",
      "6111/6111 [==============================] - 66s 11ms/step - loss: 3.4707 - accuracy: 0.3372\n",
      "Epoch 58/500\n",
      "6111/6111 [==============================] - 66s 11ms/step - loss: 3.4588 - accuracy: 0.3377\n",
      "Epoch 59/500\n",
      "6111/6111 [==============================] - 66s 11ms/step - loss: 3.4542 - accuracy: 0.3381\n",
      "Epoch 60/500\n",
      "6111/6111 [==============================] - 66s 11ms/step - loss: 3.4436 - accuracy: 0.3407\n",
      "Epoch 61/500\n",
      "6111/6111 [==============================] - 66s 11ms/step - loss: 3.4320 - accuracy: 0.3406\n",
      "Epoch 62/500\n",
      "6111/6111 [==============================] - 66s 11ms/step - loss: 3.4265 - accuracy: 0.3413\n",
      "Epoch 63/500\n",
      "6111/6111 [==============================] - 66s 11ms/step - loss: 3.4163 - accuracy: 0.3431\n",
      "Epoch 64/500\n",
      "6111/6111 [==============================] - 66s 11ms/step - loss: 3.4089 - accuracy: 0.3435\n",
      "Epoch 65/500\n",
      "6111/6111 [==============================] - 66s 11ms/step - loss: 3.4002 - accuracy: 0.3452\n",
      "Epoch 66/500\n",
      "6111/6111 [==============================] - 66s 11ms/step - loss: 3.3943 - accuracy: 0.3452\n",
      "Epoch 67/500\n",
      "6111/6111 [==============================] - 66s 11ms/step - loss: 3.3863 - accuracy: 0.3465\n",
      "Epoch 68/500\n",
      "6111/6111 [==============================] - 66s 11ms/step - loss: 3.3783 - accuracy: 0.3483\n",
      "Epoch 69/500\n",
      "6111/6111 [==============================] - 66s 11ms/step - loss: 3.3717 - accuracy: 0.3484\n",
      "Epoch 70/500\n",
      "6111/6111 [==============================] - 66s 11ms/step - loss: 3.3647 - accuracy: 0.3502\n",
      "Epoch 71/500\n",
      "6111/6111 [==============================] - 66s 11ms/step - loss: 3.3588 - accuracy: 0.3500\n",
      "Epoch 72/500\n",
      "6111/6111 [==============================] - 66s 11ms/step - loss: 3.3523 - accuracy: 0.3517\n",
      "Epoch 73/500\n",
      "6111/6111 [==============================] - 66s 11ms/step - loss: 3.3452 - accuracy: 0.3521\n",
      "Epoch 74/500\n",
      "6111/6111 [==============================] - 66s 11ms/step - loss: 3.3375 - accuracy: 0.3535\n",
      "Epoch 75/500\n",
      "6111/6111 [==============================] - 66s 11ms/step - loss: 3.3323 - accuracy: 0.3538\n",
      "Epoch 76/500\n",
      "6111/6111 [==============================] - 66s 11ms/step - loss: 3.3302 - accuracy: 0.3533\n",
      "Epoch 77/500\n",
      "6111/6111 [==============================] - 66s 11ms/step - loss: 3.3186 - accuracy: 0.3566\n",
      "Epoch 78/500\n"
     ]
    },
    {
     "name": "stdout",
     "output_type": "stream",
     "text": [
      "6111/6111 [==============================] - 66s 11ms/step - loss: 3.3139 - accuracy: 0.3573\n",
      "Epoch 79/500\n",
      "6111/6111 [==============================] - 66s 11ms/step - loss: 3.3110 - accuracy: 0.3561\n",
      "Epoch 80/500\n",
      "6111/6111 [==============================] - 66s 11ms/step - loss: 3.3045 - accuracy: 0.3576\n",
      "Epoch 81/500\n",
      "6111/6111 [==============================] - 66s 11ms/step - loss: 3.2978 - accuracy: 0.3582\n",
      "Epoch 82/500\n",
      "6111/6111 [==============================] - 66s 11ms/step - loss: 3.2941 - accuracy: 0.3591\n",
      "Epoch 83/500\n",
      "6111/6111 [==============================] - 66s 11ms/step - loss: 3.2902 - accuracy: 0.3591\n",
      "Epoch 84/500\n",
      "6111/6111 [==============================] - 66s 11ms/step - loss: 3.2852 - accuracy: 0.3604\n",
      "Epoch 85/500\n",
      "6111/6111 [==============================] - 66s 11ms/step - loss: 3.2797 - accuracy: 0.3603\n",
      "Epoch 86/500\n",
      "6111/6111 [==============================] - 66s 11ms/step - loss: 3.2738 - accuracy: 0.3610\n",
      "Epoch 87/500\n",
      "6111/6111 [==============================] - 66s 11ms/step - loss: 3.2692 - accuracy: 0.3622\n",
      "Epoch 88/500\n",
      "6111/6111 [==============================] - 66s 11ms/step - loss: 3.2668 - accuracy: 0.3624\n",
      "Epoch 89/500\n",
      "6111/6111 [==============================] - 66s 11ms/step - loss: 3.2599 - accuracy: 0.3638\n",
      "Epoch 90/500\n",
      "6111/6111 [==============================] - 66s 11ms/step - loss: 3.2559 - accuracy: 0.3632\n",
      "Epoch 91/500\n",
      "6111/6111 [==============================] - 66s 11ms/step - loss: 3.2551 - accuracy: 0.3648\n",
      "Epoch 92/500\n",
      "6111/6111 [==============================] - 66s 11ms/step - loss: 3.2465 - accuracy: 0.3654\n",
      "Epoch 93/500\n",
      "6111/6111 [==============================] - 66s 11ms/step - loss: 3.2449 - accuracy: 0.3650\n",
      "Epoch 94/500\n",
      "6111/6111 [==============================] - 66s 11ms/step - loss: 3.2391 - accuracy: 0.3663\n",
      "Epoch 95/500\n",
      "6111/6111 [==============================] - 66s 11ms/step - loss: 3.2349 - accuracy: 0.3659\n",
      "Epoch 96/500\n",
      "6111/6111 [==============================] - 66s 11ms/step - loss: 3.2356 - accuracy: 0.3662\n",
      "Epoch 97/500\n",
      "6111/6111 [==============================] - 66s 11ms/step - loss: 3.2279 - accuracy: 0.3679\n",
      "Epoch 98/500\n",
      "6111/6111 [==============================] - 66s 11ms/step - loss: 3.2224 - accuracy: 0.3684\n",
      "Epoch 99/500\n",
      "6111/6111 [==============================] - 66s 11ms/step - loss: 3.2189 - accuracy: 0.3691\n",
      "Epoch 100/500\n",
      "6111/6111 [==============================] - 66s 11ms/step - loss: 3.2200 - accuracy: 0.3695\n",
      "Epoch 101/500\n",
      "6111/6111 [==============================] - 66s 11ms/step - loss: 3.2105 - accuracy: 0.3701\n",
      "Epoch 102/500\n",
      "6111/6111 [==============================] - 66s 11ms/step - loss: 3.2117 - accuracy: 0.3700\n",
      "Epoch 103/500\n",
      "6111/6111 [==============================] - 67s 11ms/step - loss: 3.2023 - accuracy: 0.3723\n",
      "Epoch 104/500\n",
      "6111/6111 [==============================] - 66s 11ms/step - loss: 3.2027 - accuracy: 0.3709\n",
      "Epoch 105/500\n",
      "6111/6111 [==============================] - 66s 11ms/step - loss: 3.1983 - accuracy: 0.3723\n",
      "Epoch 106/500\n",
      "6111/6111 [==============================] - 66s 11ms/step - loss: 3.1965 - accuracy: 0.3717\n",
      "Epoch 107/500\n",
      "6111/6111 [==============================] - 66s 11ms/step - loss: 3.1953 - accuracy: 0.3728\n",
      "Epoch 108/500\n",
      "6111/6111 [==============================] - 67s 11ms/step - loss: 3.1902 - accuracy: 0.3731\n",
      "Epoch 109/500\n",
      "6111/6111 [==============================] - 67s 11ms/step - loss: 3.1842 - accuracy: 0.3739\n",
      "Epoch 110/500\n",
      "6111/6111 [==============================] - 67s 11ms/step - loss: 3.1833 - accuracy: 0.3741\n",
      "Epoch 111/500\n",
      "6111/6111 [==============================] - 67s 11ms/step - loss: 3.1783 - accuracy: 0.3736\n",
      "Epoch 112/500\n",
      "6111/6111 [==============================] - 67s 11ms/step - loss: 3.1754 - accuracy: 0.3745\n",
      "Epoch 113/500\n",
      "6111/6111 [==============================] - 67s 11ms/step - loss: 3.1723 - accuracy: 0.3754\n",
      "Epoch 114/500\n",
      "6111/6111 [==============================] - 66s 11ms/step - loss: 3.1714 - accuracy: 0.3754\n",
      "Epoch 115/500\n",
      "6111/6111 [==============================] - 66s 11ms/step - loss: 3.1659 - accuracy: 0.3765\n",
      "Epoch 116/500\n",
      "6111/6111 [==============================] - 66s 11ms/step - loss: 3.1671 - accuracy: 0.3762\n",
      "Epoch 117/500\n",
      "6111/6111 [==============================] - 66s 11ms/step - loss: 3.1649 - accuracy: 0.3758\n",
      "Epoch 118/500\n",
      "6111/6111 [==============================] - 66s 11ms/step - loss: 3.1577 - accuracy: 0.3771\n",
      "Epoch 119/500\n",
      "6111/6111 [==============================] - 66s 11ms/step - loss: 3.1568 - accuracy: 0.3775\n",
      "Epoch 120/500\n",
      "6111/6111 [==============================] - 66s 11ms/step - loss: 3.1586 - accuracy: 0.3774\n",
      "Epoch 121/500\n",
      "6111/6111 [==============================] - 66s 11ms/step - loss: 3.1559 - accuracy: 0.3779\n",
      "Epoch 122/500\n",
      "6111/6111 [==============================] - 66s 11ms/step - loss: 3.1509 - accuracy: 0.3783\n",
      "Epoch 123/500\n",
      "6111/6111 [==============================] - 66s 11ms/step - loss: 3.1491 - accuracy: 0.3786\n",
      "Epoch 124/500\n",
      "6111/6111 [==============================] - 66s 11ms/step - loss: 3.1438 - accuracy: 0.3792\n",
      "Epoch 125/500\n",
      "6111/6111 [==============================] - 66s 11ms/step - loss: 3.1427 - accuracy: 0.3797\n",
      "Epoch 126/500\n",
      "6111/6111 [==============================] - 66s 11ms/step - loss: 3.1455 - accuracy: 0.3794\n",
      "Epoch 127/500\n",
      "6111/6111 [==============================] - 66s 11ms/step - loss: 3.1398 - accuracy: 0.3795\n",
      "Epoch 128/500\n",
      "6111/6111 [==============================] - 66s 11ms/step - loss: 3.1413 - accuracy: 0.3791\n",
      "Epoch 129/500\n",
      "6111/6111 [==============================] - 66s 11ms/step - loss: 3.1314 - accuracy: 0.3811\n",
      "Epoch 130/500\n",
      "6111/6111 [==============================] - 66s 11ms/step - loss: 3.1337 - accuracy: 0.3802\n",
      "Epoch 131/500\n",
      "6111/6111 [==============================] - 66s 11ms/step - loss: 3.1315 - accuracy: 0.3802\n",
      "Epoch 132/500\n",
      "6111/6111 [==============================] - 66s 11ms/step - loss: 3.1243 - accuracy: 0.3812\n",
      "Epoch 133/500\n",
      "6111/6111 [==============================] - 66s 11ms/step - loss: 3.1261 - accuracy: 0.3817\n",
      "Epoch 134/500\n",
      "6111/6111 [==============================] - 66s 11ms/step - loss: 3.1247 - accuracy: 0.3822\n",
      "Epoch 135/500\n",
      "6111/6111 [==============================] - 66s 11ms/step - loss: 3.1182 - accuracy: 0.3822\n",
      "Epoch 136/500\n",
      "6111/6111 [==============================] - 66s 11ms/step - loss: 3.1179 - accuracy: 0.3825\n",
      "Epoch 137/500\n",
      "6111/6111 [==============================] - 66s 11ms/step - loss: 3.1205 - accuracy: 0.3815\n",
      "Epoch 138/500\n",
      "6111/6111 [==============================] - 66s 11ms/step - loss: 3.1154 - accuracy: 0.3836\n",
      "Epoch 139/500\n",
      "6111/6111 [==============================] - 66s 11ms/step - loss: 3.1165 - accuracy: 0.3837\n",
      "Epoch 140/500\n",
      "6111/6111 [==============================] - 66s 11ms/step - loss: 3.1105 - accuracy: 0.3840\n",
      "Epoch 141/500\n",
      "6111/6111 [==============================] - 66s 11ms/step - loss: 3.1067 - accuracy: 0.3839\n",
      "Epoch 142/500\n",
      "6111/6111 [==============================] - 66s 11ms/step - loss: 3.1146 - accuracy: 0.3823\n",
      "Epoch 143/500\n",
      "6111/6111 [==============================] - 66s 11ms/step - loss: 3.1041 - accuracy: 0.3846\n",
      "Epoch 144/500\n",
      "6111/6111 [==============================] - 66s 11ms/step - loss: 3.1056 - accuracy: 0.3841\n",
      "Epoch 145/500\n",
      "6111/6111 [==============================] - 66s 11ms/step - loss: 3.1021 - accuracy: 0.3848\n",
      "Epoch 146/500\n",
      "6111/6111 [==============================] - 66s 11ms/step - loss: 3.1005 - accuracy: 0.3844\n",
      "Epoch 147/500\n",
      "6111/6111 [==============================] - 66s 11ms/step - loss: 3.1028 - accuracy: 0.3849\n",
      "Epoch 148/500\n",
      "6111/6111 [==============================] - 66s 11ms/step - loss: 3.0938 - accuracy: 0.3857\n",
      "Epoch 149/500\n",
      "6111/6111 [==============================] - 66s 11ms/step - loss: 3.0957 - accuracy: 0.3853\n",
      "Epoch 150/500\n",
      "6111/6111 [==============================] - 66s 11ms/step - loss: 3.0919 - accuracy: 0.3863\n",
      "Epoch 151/500\n",
      "6111/6111 [==============================] - 66s 11ms/step - loss: 3.0897 - accuracy: 0.3865\n",
      "Epoch 152/500\n",
      "6111/6111 [==============================] - 66s 11ms/step - loss: 3.0878 - accuracy: 0.3870\n",
      "Epoch 153/500\n",
      "6111/6111 [==============================] - 66s 11ms/step - loss: 3.0926 - accuracy: 0.3866\n",
      "Epoch 154/500\n"
     ]
    },
    {
     "name": "stdout",
     "output_type": "stream",
     "text": [
      "6111/6111 [==============================] - 66s 11ms/step - loss: 3.0835 - accuracy: 0.3876\n",
      "Epoch 155/500\n",
      "6111/6111 [==============================] - 66s 11ms/step - loss: 3.0863 - accuracy: 0.3869\n",
      "Epoch 156/500\n",
      "6111/6111 [==============================] - 66s 11ms/step - loss: 3.0853 - accuracy: 0.3871\n",
      "Epoch 157/500\n",
      "6111/6111 [==============================] - 66s 11ms/step - loss: 3.0778 - accuracy: 0.3878\n",
      "Epoch 158/500\n",
      "6111/6111 [==============================] - 66s 11ms/step - loss: 3.0815 - accuracy: 0.3874\n",
      "Epoch 159/500\n",
      "6111/6111 [==============================] - 66s 11ms/step - loss: 3.0816 - accuracy: 0.3879\n",
      "Epoch 160/500\n",
      "6111/6111 [==============================] - 66s 11ms/step - loss: 3.0775 - accuracy: 0.3878\n",
      "Epoch 161/500\n",
      "6111/6111 [==============================] - 67s 11ms/step - loss: 3.0772 - accuracy: 0.3883\n",
      "Epoch 162/500\n",
      "6111/6111 [==============================] - 66s 11ms/step - loss: 3.0721 - accuracy: 0.3889\n",
      "Epoch 163/500\n",
      "6111/6111 [==============================] - 66s 11ms/step - loss: 3.0757 - accuracy: 0.3882\n",
      "Epoch 164/500\n",
      "6111/6111 [==============================] - 66s 11ms/step - loss: 3.0702 - accuracy: 0.3889\n",
      "Epoch 165/500\n",
      "6111/6111 [==============================] - 66s 11ms/step - loss: 3.0696 - accuracy: 0.3881\n",
      "Epoch 166/500\n",
      "6111/6111 [==============================] - 66s 11ms/step - loss: 3.0648 - accuracy: 0.3892\n",
      "Epoch 167/500\n",
      "6111/6111 [==============================] - 66s 11ms/step - loss: 3.0675 - accuracy: 0.3895\n",
      "Epoch 168/500\n",
      "6111/6111 [==============================] - 66s 11ms/step - loss: 3.0692 - accuracy: 0.3892\n",
      "Epoch 169/500\n",
      "6111/6111 [==============================] - 66s 11ms/step - loss: 3.0684 - accuracy: 0.3896\n",
      "Epoch 170/500\n",
      "6111/6111 [==============================] - 66s 11ms/step - loss: 3.0622 - accuracy: 0.3907\n",
      "Epoch 171/500\n",
      "6111/6111 [==============================] - 66s 11ms/step - loss: 3.0646 - accuracy: 0.3907\n",
      "Epoch 172/500\n",
      "6111/6111 [==============================] - 66s 11ms/step - loss: 3.0625 - accuracy: 0.3905\n",
      "Epoch 173/500\n",
      "6111/6111 [==============================] - 66s 11ms/step - loss: 3.0627 - accuracy: 0.3911\n",
      "Epoch 174/500\n",
      "6111/6111 [==============================] - 66s 11ms/step - loss: 3.0604 - accuracy: 0.3897\n",
      "Epoch 175/500\n",
      "6111/6111 [==============================] - 66s 11ms/step - loss: 3.0603 - accuracy: 0.3897\n",
      "Epoch 176/500\n",
      "6111/6111 [==============================] - 66s 11ms/step - loss: 3.0530 - accuracy: 0.3916\n",
      "Epoch 177/500\n",
      "6111/6111 [==============================] - 66s 11ms/step - loss: 3.0610 - accuracy: 0.3904\n",
      "Epoch 178/500\n",
      "6111/6111 [==============================] - 66s 11ms/step - loss: 3.0555 - accuracy: 0.3914\n",
      "Epoch 179/500\n",
      "6111/6111 [==============================] - 66s 11ms/step - loss: 3.0541 - accuracy: 0.3919\n",
      "Epoch 180/500\n",
      "6111/6111 [==============================] - 66s 11ms/step - loss: 3.0529 - accuracy: 0.3912\n",
      "Epoch 181/500\n",
      "6111/6111 [==============================] - 66s 11ms/step - loss: 3.0478 - accuracy: 0.3922\n",
      "Epoch 182/500\n",
      "6111/6111 [==============================] - 66s 11ms/step - loss: 3.0493 - accuracy: 0.3914\n",
      "Epoch 183/500\n",
      "6111/6111 [==============================] - 66s 11ms/step - loss: 3.0518 - accuracy: 0.3916\n",
      "Epoch 184/500\n",
      "6111/6111 [==============================] - 66s 11ms/step - loss: 3.0463 - accuracy: 0.3933\n",
      "Epoch 185/500\n",
      "6111/6111 [==============================] - 66s 11ms/step - loss: 3.0470 - accuracy: 0.3923\n",
      "Epoch 186/500\n",
      "6111/6111 [==============================] - 66s 11ms/step - loss: 3.0413 - accuracy: 0.3934\n",
      "Epoch 187/500\n",
      "6111/6111 [==============================] - 66s 11ms/step - loss: 3.0405 - accuracy: 0.3934\n",
      "Epoch 188/500\n",
      "6111/6111 [==============================] - 66s 11ms/step - loss: 3.0422 - accuracy: 0.3938\n",
      "Epoch 189/500\n",
      "6111/6111 [==============================] - 66s 11ms/step - loss: 3.0477 - accuracy: 0.3918\n",
      "Epoch 190/500\n",
      "6111/6111 [==============================] - 66s 11ms/step - loss: 3.0414 - accuracy: 0.3941\n",
      "Epoch 191/500\n",
      "6111/6111 [==============================] - 66s 11ms/step - loss: 3.0401 - accuracy: 0.3939\n",
      "Epoch 192/500\n",
      "6111/6111 [==============================] - 66s 11ms/step - loss: 3.0402 - accuracy: 0.3935\n",
      "Epoch 193/500\n",
      "6111/6111 [==============================] - 66s 11ms/step - loss: 3.0407 - accuracy: 0.3933\n",
      "Epoch 194/500\n",
      "6111/6111 [==============================] - 66s 11ms/step - loss: 3.0351 - accuracy: 0.3944\n",
      "Epoch 195/500\n",
      "6111/6111 [==============================] - 66s 11ms/step - loss: 3.0332 - accuracy: 0.3947\n",
      "Epoch 196/500\n",
      "6111/6111 [==============================] - 66s 11ms/step - loss: 3.0316 - accuracy: 0.3939\n",
      "Epoch 197/500\n",
      "6111/6111 [==============================] - 66s 11ms/step - loss: 3.0327 - accuracy: 0.3938\n",
      "Epoch 198/500\n",
      "6111/6111 [==============================] - 66s 11ms/step - loss: 3.0268 - accuracy: 0.3952\n",
      "Epoch 199/500\n",
      "6111/6111 [==============================] - 66s 11ms/step - loss: 3.0283 - accuracy: 0.3955\n",
      "Epoch 200/500\n",
      "6111/6111 [==============================] - 66s 11ms/step - loss: 3.0275 - accuracy: 0.3949\n",
      "Epoch 201/500\n",
      "6111/6111 [==============================] - 66s 11ms/step - loss: 3.0294 - accuracy: 0.3953\n",
      "Epoch 202/500\n",
      "6111/6111 [==============================] - 66s 11ms/step - loss: 3.0284 - accuracy: 0.3947\n",
      "Epoch 203/500\n",
      "6111/6111 [==============================] - 66s 11ms/step - loss: 3.0304 - accuracy: 0.3940\n",
      "Epoch 204/500\n",
      "6111/6111 [==============================] - 66s 11ms/step - loss: 3.0302 - accuracy: 0.3945\n",
      "Epoch 205/500\n",
      "6111/6111 [==============================] - 66s 11ms/step - loss: 3.0262 - accuracy: 0.3952\n",
      "Epoch 206/500\n",
      "6111/6111 [==============================] - 66s 11ms/step - loss: 3.0241 - accuracy: 0.3955\n",
      "Epoch 207/500\n",
      "6111/6111 [==============================] - 66s 11ms/step - loss: 3.0256 - accuracy: 0.3947\n",
      "Epoch 208/500\n",
      "6111/6111 [==============================] - 66s 11ms/step - loss: 3.0214 - accuracy: 0.3961\n",
      "Epoch 209/500\n",
      "6111/6111 [==============================] - 66s 11ms/step - loss: 3.0195 - accuracy: 0.3964\n",
      "Epoch 210/500\n",
      "6111/6111 [==============================] - 66s 11ms/step - loss: 3.0194 - accuracy: 0.3968\n",
      "Epoch 211/500\n",
      "6111/6111 [==============================] - 66s 11ms/step - loss: 3.0191 - accuracy: 0.3953\n",
      "Epoch 212/500\n",
      "6111/6111 [==============================] - 66s 11ms/step - loss: 3.0153 - accuracy: 0.3965\n",
      "Epoch 213/500\n",
      "6111/6111 [==============================] - 66s 11ms/step - loss: 3.0211 - accuracy: 0.3951\n",
      "Epoch 214/500\n",
      "6111/6111 [==============================] - 66s 11ms/step - loss: 3.0135 - accuracy: 0.3972\n",
      "Epoch 215/500\n",
      "6111/6111 [==============================] - 66s 11ms/step - loss: 3.0185 - accuracy: 0.3966\n",
      "Epoch 216/500\n",
      "6111/6111 [==============================] - 66s 11ms/step - loss: 3.0151 - accuracy: 0.3969\n",
      "Epoch 217/500\n",
      "6111/6111 [==============================] - 66s 11ms/step - loss: 3.0147 - accuracy: 0.3972\n",
      "Epoch 218/500\n",
      "6111/6111 [==============================] - 66s 11ms/step - loss: 3.0149 - accuracy: 0.3980\n",
      "Epoch 219/500\n",
      "6111/6111 [==============================] - 66s 11ms/step - loss: 3.0113 - accuracy: 0.3977\n",
      "Epoch 220/500\n",
      "6111/6111 [==============================] - 66s 11ms/step - loss: 3.0120 - accuracy: 0.3974\n",
      "Epoch 221/500\n",
      "6111/6111 [==============================] - 66s 11ms/step - loss: 3.0046 - accuracy: 0.3990\n",
      "Epoch 222/500\n",
      "6111/6111 [==============================] - 66s 11ms/step - loss: 3.0078 - accuracy: 0.3979\n",
      "Epoch 223/500\n",
      "6111/6111 [==============================] - 66s 11ms/step - loss: 3.0059 - accuracy: 0.3989\n",
      "Epoch 224/500\n",
      "6111/6111 [==============================] - 66s 11ms/step - loss: 3.0154 - accuracy: 0.3969\n",
      "Epoch 225/500\n",
      "6111/6111 [==============================] - 66s 11ms/step - loss: 3.0042 - accuracy: 0.3982\n",
      "Epoch 226/500\n",
      "6111/6111 [==============================] - 66s 11ms/step - loss: 3.0002 - accuracy: 0.3990\n",
      "Epoch 227/500\n",
      "6111/6111 [==============================] - 66s 11ms/step - loss: 3.0059 - accuracy: 0.3985\n",
      "Epoch 228/500\n",
      "6111/6111 [==============================] - 66s 11ms/step - loss: 3.0054 - accuracy: 0.3985\n",
      "Epoch 229/500\n",
      "6111/6111 [==============================] - 66s 11ms/step - loss: 3.0016 - accuracy: 0.3988\n",
      "Epoch 230/500\n"
     ]
    },
    {
     "name": "stdout",
     "output_type": "stream",
     "text": [
      "6111/6111 [==============================] - 66s 11ms/step - loss: 3.0038 - accuracy: 0.3975\n",
      "Epoch 231/500\n",
      "6111/6111 [==============================] - 66s 11ms/step - loss: 2.9996 - accuracy: 0.3988\n",
      "Epoch 232/500\n",
      "6111/6111 [==============================] - 66s 11ms/step - loss: 3.0056 - accuracy: 0.3984\n",
      "Epoch 233/500\n",
      "6111/6111 [==============================] - 66s 11ms/step - loss: 3.0053 - accuracy: 0.3988\n",
      "Epoch 234/500\n",
      "6111/6111 [==============================] - 66s 11ms/step - loss: 3.0000 - accuracy: 0.3987\n",
      "Epoch 235/500\n",
      "6111/6111 [==============================] - 66s 11ms/step - loss: 3.0028 - accuracy: 0.3991\n",
      "Epoch 236/500\n",
      "6111/6111 [==============================] - 66s 11ms/step - loss: 3.0002 - accuracy: 0.3988\n",
      "Epoch 237/500\n",
      "6111/6111 [==============================] - 66s 11ms/step - loss: 2.9982 - accuracy: 0.3989\n",
      "Epoch 238/500\n",
      "6111/6111 [==============================] - 66s 11ms/step - loss: 2.9907 - accuracy: 0.4001\n",
      "Epoch 239/500\n",
      "6111/6111 [==============================] - 66s 11ms/step - loss: 3.0003 - accuracy: 0.3998\n",
      "Epoch 240/500\n",
      "6111/6111 [==============================] - 66s 11ms/step - loss: 3.0031 - accuracy: 0.3990\n",
      "Epoch 241/500\n",
      "6111/6111 [==============================] - 66s 11ms/step - loss: 2.9985 - accuracy: 0.3996\n",
      "Epoch 242/500\n",
      "6111/6111 [==============================] - 66s 11ms/step - loss: 2.9976 - accuracy: 0.3991\n",
      "Epoch 243/500\n",
      "6111/6111 [==============================] - 66s 11ms/step - loss: 2.9939 - accuracy: 0.3999\n",
      "Epoch 244/500\n",
      "6111/6111 [==============================] - 66s 11ms/step - loss: 2.9931 - accuracy: 0.4003\n",
      "Epoch 245/500\n",
      "6111/6111 [==============================] - 66s 11ms/step - loss: 2.9951 - accuracy: 0.3993\n",
      "Epoch 246/500\n",
      "6111/6111 [==============================] - 66s 11ms/step - loss: 2.9897 - accuracy: 0.4008\n",
      "Epoch 247/500\n",
      "6111/6111 [==============================] - 66s 11ms/step - loss: 2.9925 - accuracy: 0.4008\n",
      "Epoch 248/500\n",
      "6111/6111 [==============================] - 66s 11ms/step - loss: 2.9926 - accuracy: 0.3995\n",
      "Epoch 249/500\n",
      "6111/6111 [==============================] - 66s 11ms/step - loss: 2.9907 - accuracy: 0.4004\n",
      "Epoch 250/500\n",
      "6111/6111 [==============================] - 66s 11ms/step - loss: 2.9900 - accuracy: 0.4004\n",
      "Epoch 251/500\n",
      "6111/6111 [==============================] - 66s 11ms/step - loss: 2.9846 - accuracy: 0.4018\n",
      "Epoch 252/500\n",
      "6111/6111 [==============================] - 66s 11ms/step - loss: 2.9891 - accuracy: 0.4007\n",
      "Epoch 253/500\n",
      "6111/6111 [==============================] - 66s 11ms/step - loss: 2.9983 - accuracy: 0.3992\n",
      "Epoch 254/500\n",
      "6111/6111 [==============================] - 66s 11ms/step - loss: 2.9919 - accuracy: 0.4003\n",
      "Epoch 255/500\n",
      "6111/6111 [==============================] - 66s 11ms/step - loss: 2.9866 - accuracy: 0.4016\n",
      "Epoch 256/500\n",
      "6111/6111 [==============================] - 66s 11ms/step - loss: 3.0004 - accuracy: 0.3992\n",
      "Epoch 257/500\n",
      "6111/6111 [==============================] - 66s 11ms/step - loss: 2.9881 - accuracy: 0.4001\n",
      "Epoch 258/500\n",
      "6111/6111 [==============================] - 66s 11ms/step - loss: 2.9848 - accuracy: 0.4027\n",
      "Epoch 259/500\n",
      "6111/6111 [==============================] - 66s 11ms/step - loss: 2.9898 - accuracy: 0.4000\n",
      "Epoch 260/500\n",
      "6111/6111 [==============================] - 66s 11ms/step - loss: 2.9869 - accuracy: 0.4012\n",
      "Epoch 261/500\n",
      "6111/6111 [==============================] - 66s 11ms/step - loss: 2.9824 - accuracy: 0.4018\n",
      "Epoch 262/500\n",
      "6111/6111 [==============================] - 66s 11ms/step - loss: 2.9848 - accuracy: 0.4009\n",
      "Epoch 263/500\n",
      "6111/6111 [==============================] - 66s 11ms/step - loss: 2.9885 - accuracy: 0.4005\n",
      "Epoch 264/500\n",
      "6111/6111 [==============================] - 66s 11ms/step - loss: 2.9823 - accuracy: 0.4017\n",
      "Epoch 265/500\n",
      "6111/6111 [==============================] - 66s 11ms/step - loss: 2.9857 - accuracy: 0.4016\n",
      "Epoch 266/500\n",
      "6111/6111 [==============================] - 66s 11ms/step - loss: 2.9755 - accuracy: 0.4030\n",
      "Epoch 267/500\n",
      "6111/6111 [==============================] - 66s 11ms/step - loss: 2.9782 - accuracy: 0.4017\n",
      "Epoch 268/500\n",
      "6111/6111 [==============================] - 66s 11ms/step - loss: 2.9865 - accuracy: 0.4008\n",
      "Epoch 269/500\n",
      "6111/6111 [==============================] - 66s 11ms/step - loss: 2.9802 - accuracy: 0.4023\n",
      "Epoch 270/500\n",
      "6111/6111 [==============================] - 66s 11ms/step - loss: 2.9773 - accuracy: 0.4011\n",
      "Epoch 271/500\n",
      "6111/6111 [==============================] - 66s 11ms/step - loss: 2.9818 - accuracy: 0.4013\n",
      "Epoch 272/500\n",
      "6111/6111 [==============================] - 66s 11ms/step - loss: 2.9792 - accuracy: 0.4024\n",
      "Epoch 273/500\n",
      "6111/6111 [==============================] - 66s 11ms/step - loss: 2.9807 - accuracy: 0.4016\n",
      "Epoch 274/500\n",
      "6111/6111 [==============================] - 66s 11ms/step - loss: 2.9750 - accuracy: 0.4024\n",
      "Epoch 275/500\n",
      "6111/6111 [==============================] - 66s 11ms/step - loss: 2.9737 - accuracy: 0.4022\n",
      "Epoch 276/500\n",
      "6111/6111 [==============================] - 66s 11ms/step - loss: 2.9768 - accuracy: 0.4023\n",
      "Epoch 277/500\n",
      "6111/6111 [==============================] - 66s 11ms/step - loss: 2.9780 - accuracy: 0.4013\n",
      "Epoch 278/500\n",
      "6111/6111 [==============================] - 66s 11ms/step - loss: 2.9753 - accuracy: 0.4024\n",
      "Epoch 279/500\n",
      "6111/6111 [==============================] - 66s 11ms/step - loss: 2.9792 - accuracy: 0.4019\n",
      "Epoch 280/500\n",
      "6111/6111 [==============================] - 66s 11ms/step - loss: 2.9771 - accuracy: 0.4019\n",
      "Epoch 281/500\n",
      "6111/6111 [==============================] - 66s 11ms/step - loss: 2.9812 - accuracy: 0.4023\n",
      "Epoch 282/500\n",
      "6111/6111 [==============================] - 66s 11ms/step - loss: 2.9728 - accuracy: 0.4024\n",
      "Epoch 283/500\n",
      "6111/6111 [==============================] - 66s 11ms/step - loss: 2.9761 - accuracy: 0.4029\n",
      "Epoch 284/500\n",
      "6111/6111 [==============================] - 66s 11ms/step - loss: 2.9799 - accuracy: 0.4021\n",
      "Epoch 285/500\n",
      "6111/6111 [==============================] - 66s 11ms/step - loss: 2.9724 - accuracy: 0.4036\n",
      "Epoch 286/500\n",
      "6111/6111 [==============================] - 66s 11ms/step - loss: 2.9788 - accuracy: 0.4024\n",
      "Epoch 287/500\n",
      "6111/6111 [==============================] - 66s 11ms/step - loss: 2.9744 - accuracy: 0.4027\n",
      "Epoch 288/500\n",
      "6111/6111 [==============================] - 66s 11ms/step - loss: 2.9759 - accuracy: 0.4025\n",
      "Epoch 289/500\n",
      "6111/6111 [==============================] - 66s 11ms/step - loss: 2.9770 - accuracy: 0.4031\n",
      "Epoch 290/500\n",
      "6111/6111 [==============================] - 66s 11ms/step - loss: 2.9683 - accuracy: 0.4035\n",
      "Epoch 291/500\n",
      "6111/6111 [==============================] - 66s 11ms/step - loss: 2.9733 - accuracy: 0.4031\n",
      "Epoch 292/500\n",
      "6111/6111 [==============================] - 66s 11ms/step - loss: 2.9714 - accuracy: 0.4029\n",
      "Epoch 293/500\n",
      "6111/6111 [==============================] - 66s 11ms/step - loss: 2.9747 - accuracy: 0.4029\n",
      "Epoch 294/500\n",
      "6111/6111 [==============================] - 66s 11ms/step - loss: 2.9676 - accuracy: 0.4034\n",
      "Epoch 295/500\n",
      "6111/6111 [==============================] - 66s 11ms/step - loss: 2.9675 - accuracy: 0.4025\n",
      "Epoch 296/500\n",
      "6111/6111 [==============================] - 66s 11ms/step - loss: 2.9700 - accuracy: 0.4035\n",
      "Epoch 297/500\n",
      "6111/6111 [==============================] - 66s 11ms/step - loss: 2.9699 - accuracy: 0.4029\n",
      "Epoch 298/500\n",
      "6111/6111 [==============================] - 66s 11ms/step - loss: 2.9609 - accuracy: 0.4050\n",
      "Epoch 299/500\n",
      "6111/6111 [==============================] - 66s 11ms/step - loss: 2.9804 - accuracy: 0.4014\n",
      "Epoch 300/500\n",
      "6111/6111 [==============================] - 66s 11ms/step - loss: 2.9664 - accuracy: 0.4041\n",
      "Epoch 301/500\n",
      "6111/6111 [==============================] - 66s 11ms/step - loss: 2.9688 - accuracy: 0.4028\n",
      "Epoch 302/500\n",
      "6111/6111 [==============================] - 66s 11ms/step - loss: 2.9651 - accuracy: 0.4038\n",
      "Epoch 303/500\n",
      "6111/6111 [==============================] - 66s 11ms/step - loss: 2.9607 - accuracy: 0.4043\n",
      "Epoch 304/500\n",
      "6111/6111 [==============================] - 66s 11ms/step - loss: 2.9675 - accuracy: 0.4037\n",
      "Epoch 305/500\n",
      "6111/6111 [==============================] - 66s 11ms/step - loss: 2.9710 - accuracy: 0.4024\n",
      "Epoch 306/500\n"
     ]
    },
    {
     "name": "stdout",
     "output_type": "stream",
     "text": [
      "6111/6111 [==============================] - 66s 11ms/step - loss: 2.9670 - accuracy: 0.4031\n",
      "Epoch 307/500\n",
      "6111/6111 [==============================] - 66s 11ms/step - loss: 2.9589 - accuracy: 0.4048\n",
      "Epoch 308/500\n",
      "6111/6111 [==============================] - 66s 11ms/step - loss: 2.9680 - accuracy: 0.4037\n",
      "Epoch 309/500\n",
      "1830/6111 [=======>......................] - ETA: 46s - loss: 2.8843 - accuracy: 0.4172"
     ]
    }
   ],
   "source": [
    "history = model.fit(xs, ys, epochs=500, verbose=1)"
   ]
  },
  {
   "cell_type": "code",
   "execution_count": null,
   "metadata": {
    "colab": {
     "base_uri": "https://localhost:8080/",
     "height": 34
    },
    "colab_type": "code",
    "id": "7-Y1eYFnPLwa",
    "outputId": "15832cd9-d6fc-4bd9-94ef-55d3c5275360"
   },
   "outputs": [
    {
     "name": "stdout",
     "output_type": "stream",
     "text": [
      "<tensorflow.python.keras.engine.sequential.Sequential object at 0x7f2bb4a14cc0>\n"
     ]
    }
   ],
   "source": [
    "model.save('ErpPresModel.h5')"
   ]
  },
  {
   "cell_type": "code",
   "execution_count": null,
   "metadata": {
    "colab": {},
    "colab_type": "code",
    "id": "7N-WAI-NPReP"
   },
   "outputs": [],
   "source": [
    "import matplotlib.pyplot as plt\n",
    "\n",
    "def plot_graphs(history, string):\n",
    "  plt.plot(history.history[string])\n",
    "  plt.xlabel(\"Epochs\")\n",
    "  plt.ylabel(string)\n",
    "  plt.show()"
   ]
  },
  {
   "cell_type": "code",
   "execution_count": null,
   "metadata": {
    "colab": {
     "base_uri": "https://localhost:8080/",
     "height": 279
    },
    "colab_type": "code",
    "id": "wNRXeMAjPYgD",
    "outputId": "9216e973-78f3-47dc-9fb0-1fa61636d079"
   },
   "outputs": [
    {
     "data": {
      "image/png": "[encoded data removed]",
      "text/plain": [
       "<Figure size 432x288 with 1 Axes>"
      ]
     },
     "metadata": {
      "needs_background": "light",
      "tags": []
     },
     "output_type": "display_data"
    }
   ],
   "source": [
    "plot_graphs(history, 'accuracy')"
   ]
  },
  {
   "cell_type": "markdown",
   "metadata": {
    "colab_type": "text",
    "id": "gH_NOUUvevEV"
   },
   "source": [
    "## Text Generation\n",
    "\n",
    "I put the seed text as below. The model will generate 100 words after the seed text."
   ]
  },
  {
   "cell_type": "code",
   "execution_count": null,
   "metadata": {
    "colab": {},
    "colab_type": "code",
    "id": "RNFUnCEGPc3c"
   },
   "outputs": [],
   "source": [
    "seed_text = \"I have some proposals to the Congress\"\n",
    "next_words = 100"
   ]
  },
  {
   "cell_type": "code",
   "execution_count": null,
   "metadata": {
    "colab": {
     "base_uri": "https://localhost:8080/",
     "height": 105
    },
    "colab_type": "code",
    "id": "T2DzxoitP8hq",
    "outputId": "195e9396-30d6-465d-e840-0126a06e39bd"
   },
   "outputs": [
    {
     "name": "stdout",
     "output_type": "stream",
     "text": [
      "WARNING:tensorflow:From <ipython-input-30-0901c9067b9b>:4: Sequential.predict_classes (from tensorflow.python.keras.engine.sequential) is deprecated and will be removed after 2021-01-01.\n",
      "Instructions for updating:\n",
      "Please use instead:* `np.argmax(model.predict(x), axis=-1)`,   if your model does multi-class classification   (e.g. if it uses a `softmax` last-layer activation).* `(model.predict(x) > 0.5).astype(\"int32\")`,   if your model does binary classification   (e.g. if it uses a `sigmoid` last-layer activation).\n",
      "I have some proposals to the Congress presented 1947 that i have included in the people and the policy for a few days i have a month earlier resources in a rate of prices and wages which more permanently sustainable rates of the vast public debt and to check year improved services to sustained economic situation to deal with the situation points up generally i evaluate it should should i evaluate i deal show i evaluate wholesale control of our program among as of deflationary pressures of living through hospitals and to savings and credit wages prosperity to reduce of low incomes health or strikes soon as\n"
     ]
    }
   ],
   "source": [
    "for _ in range(next_words):\n",
    "    token_list = tokenizer.texts_to_sequences([seed_text])[0]\n",
    "    token_list = pad_sequences([token_list], maxlen=max_sequence_len-1, padding='pre')\n",
    "    predicted = model.predict_classes(token_list, verbose=0)\n",
    "    output_word = \"\"\n",
    "    for word, index in tokenizer.word_index.items():\n",
    "        if index == predicted:\n",
    "            output_word = word\n",
    "            break\n",
    "    seed_text += \" \" + output_word\n",
    "\n",
    "print(seed_text)"
   ]
  },
  {
   "cell_type": "markdown",
   "metadata": {
    "colab_type": "text",
    "id": "tAe6drImfHJU"
   },
   "source": [
    "Looks like English. Sounds like presidential?\n",
    "\n",
    "My ambition was to create some A. I. Presidents, like a Democrat President or a Republican President, and let them talk about health care, tax, trade, etc. However, the generated texts so far are not convincing. "
   ]
  }
 ],
 "metadata": {
  "colab": {
   "collapsed_sections": [],
   "include_colab_link": true,
   "name": "let_pres_speak_failed.ipynb",
   "provenance": []
  },
  "kernelspec": {
   "display_name": "Python 3",
   "language": "python",
   "name": "python3"
  },
  "language_info": {
   "codemirror_mode": {
    "name": "ipython",
    "version": 3
   },
   "file_extension": ".py",
   "mimetype": "text/x-python",
   "name": "python",
   "nbconvert_exporter": "python",
   "pygments_lexer": "ipython3",
   "version": "3.6.9"
  }
 },
 "nbformat": 4,
 "nbformat_minor": 1
}
